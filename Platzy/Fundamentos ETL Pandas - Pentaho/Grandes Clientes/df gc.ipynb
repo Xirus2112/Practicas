{
 "cells": [
  {
   "cell_type": "markdown",
   "source": [
    "## Buscando Archivo gran cliente"
   ],
   "metadata": {
    "collapsed": false
   },
   "id": "ae9d5c99e984befe"
  },
  {
   "cell_type": "code",
   "execution_count": 2,
   "id": "initial_id",
   "metadata": {
    "collapsed": true,
    "ExecuteTime": {
     "end_time": "2023-08-28T22:13:16.392068Z",
     "start_time": "2023-08-28T22:13:15.908320400Z"
    }
   },
   "outputs": [],
   "source": [
    "import pandas as pd"
   ]
  },
  {
   "cell_type": "markdown",
   "source": [
    "### Cargando el archivo"
   ],
   "metadata": {
    "collapsed": false
   },
   "id": "57631668d725fd7b"
  },
  {
   "cell_type": "code",
   "execution_count": 3,
   "outputs": [
    {
     "data": {
      "text/plain": "       PERIODO   CUENTA  SUSCRIBER_ID  Pagador CORRECTO (Suscriber ID)   \n0       202308  1000125      10019652                         10019652  \\\n1       202308  1000126      10019655                         10019655   \n2       202308  1000127      10019655                         10019655   \n3       202308  1000128      10019663                         10019663   \n4       202308  1000129      10019698                         10019698   \n...        ...      ...           ...                              ...   \n16274   202308  8087995      36533362                         36533362   \n16275   202308  8088055             0                         36620200   \n16276   202308  8096768      36563363                         36563363   \n16277   202308  8100479      36480919                         36480919   \n16278   202308  8100481      36480919                         36480919   \n\n       PRODUCTO         ESTADO_CONTRATO  F_ALTA   ESTADO_SUMINISTRO   \n0       1000125                CONEXIÓN   36465  SITUACION CORRECTA  \\\n1       1000126                CONEXIÓN   36465           CON DEUDA   \n2       1000127                CONEXIÓN   36465           CON DEUDA   \n3       1000128                CONEXIÓN   36465           CON DEUDA   \n4       1000129                CONEXIÓN   36448  SITUACION CORRECTA   \n...         ...                     ...     ...                 ...   \n16274   9096346                CONEXIÓN   45020  SITUACION CORRECTA   \n16275   9096432                CONEXIÓN   45020  SITUACION CORRECTA   \n16276   9101975  ORDEN SUSPENSIÓN TOTAL   45042                MORA   \n16277   9105487                CONEXIÓN   45057                MORA   \n16278   9105489                CONEXIÓN   45057                MORA   \n\n                                 TIPO_MEDICION                  TIPO_CONEXION   \n0      MEDICIÓN CONVENCIONAL - ACTIVA/REACTIVA  SUBTERRANEA TRADICIONAL MT AT  \\\n1      MEDICIÓN CONVENCIONAL - ACTIVA/REACTIVA  SUBTERRANEA TRADICIONAL MT AT   \n2      MEDICIÓN CONVENCIONAL - ACTIVA/REACTIVA  SUBTERRANEA TRADICIONAL MT AT   \n3      MEDICIÓN CONVENCIONAL - ACTIVA/REACTIVA       AEREA TRADICIONAL NORMAL   \n4      MEDICIÓN CONVENCIONAL - ACTIVA/REACTIVA  SUBTERRANEA TRADICIONAL MT AT   \n...                                        ...                            ...   \n16274  MEDICIÓN CONVENCIONAL - ACTIVA/REACTIVA       AEREA TRADICIONAL NORMAL   \n16275  MEDICIÓN CONVENCIONAL - ACTIVA/REACTIVA       AEREA TRADICIONAL NORMAL   \n16276  MEDICIÓN CONVENCIONAL - ACTIVA/REACTIVA       AEREA TRADICIONAL NORMAL   \n16277  MEDICIÓN CONVENCIONAL - ACTIVA/REACTIVA        AEREA TRADICIONAL MT AT   \n16278  MEDICIÓN CONVENCIONAL - ACTIVA/REACTIVA        AEREA TRADICIONAL MT AT   \n\n       ...            NOMBRE_CONTACTO  TELF_CONTACTO  CICLO MARZO   \n0      ...                        NaN            NaN         3408  \\\n1      ...              CARMEN ACOSTA    314 5974873         5000   \n2      ...              CARMEN ACOSTA    314 5974873         5000   \n3      ...                        NaN            NaN         5000   \n4      ...                        NaN            NaN         3410   \n...    ...                        ...            ...          ...   \n16274  ...  KAREN LICETH LOPEZ ARIZA     314 5811835         1108   \n16275  ...                        NaN            NaN         1212   \n16276  ...                    INCLUIR        INCLUIR         1110   \n16277  ...           KARINA PALACIOS     304 5641047         1115   \n16278  ...           KARINA PALACIOS     304 5641047         1115   \n\n      CICLO_JULIO.1 NUEVO_CICLO_FACT  NUEVO_CICLO_CSMO   \n0              3408             6000              2907  \\\n1              5000             6000              3408   \n2              5000             6000              3408   \n3              5000             6000              3413   \n4              3410             6000              3410   \n...             ...              ...               ...   \n16274          1108             5000              1108   \n16275          1212             6000              1109   \n16276          1110             5000              1110   \n16277          1115             6000              1108   \n16278          1115             6000              1108   \n\n      VALIDACION_CAMBIO_CICLO_FACTURACION     ACCION  NUEVA BD GC FACT1Ago   \n0                      PASAN A CICLO 6000  MANTIENEN                  True  \\\n1                      PASAN A CICLO 6000  MANTIENEN                  True   \n2                      PASAN A CICLO 6000  MANTIENEN                  True   \n3                      PASAN A CICLO 6000  MANTIENEN                  True   \n4                      PASAN A CICLO 6000  MANTIENEN                  True   \n...                                   ...        ...                   ...   \n16274                  PASAN A CICLO 5000   INGRESAN                  True   \n16275                  PASAN A CICLO 6000   INGRESAN                  True   \n16276                  PASAN A CICLO 5000   INGRESAN                  True   \n16277                  PASAN A CICLO 6000   INGRESAN                  True   \n16278                  PASAN A CICLO 6000   INGRESAN                  True   \n\n                    IMPACTO  \n0         CICLO REG A 6MIL   \n1               5000 A 6000  \n2               5000 A 6000  \n3               5000 A 6000  \n4         CICLO REG A 6MIL   \n...                     ...  \n16274  CICLO REG A 5MIL AGO  \n16275     CICLO REG A 6MIL   \n16276  CICLO REG A 5MIL AGO  \n16277     CICLO REG A 6MIL   \n16278     CICLO REG A 6MIL   \n\n[16279 rows x 205 columns]",
      "text/html": "<div>\n<style scoped>\n    .dataframe tbody tr th:only-of-type {\n        vertical-align: middle;\n    }\n\n    .dataframe tbody tr th {\n        vertical-align: top;\n    }\n\n    .dataframe thead th {\n        text-align: right;\n    }\n</style>\n<table border=\"1\" class=\"dataframe\">\n  <thead>\n    <tr style=\"text-align: right;\">\n      <th></th>\n      <th>PERIODO</th>\n      <th>CUENTA</th>\n      <th>SUSCRIBER_ID</th>\n      <th>Pagador CORRECTO (Suscriber ID)</th>\n      <th>PRODUCTO</th>\n      <th>ESTADO_CONTRATO</th>\n      <th>F_ALTA</th>\n      <th>ESTADO_SUMINISTRO</th>\n      <th>TIPO_MEDICION</th>\n      <th>TIPO_CONEXION</th>\n      <th>...</th>\n      <th>NOMBRE_CONTACTO</th>\n      <th>TELF_CONTACTO</th>\n      <th>CICLO MARZO</th>\n      <th>CICLO_JULIO.1</th>\n      <th>NUEVO_CICLO_FACT</th>\n      <th>NUEVO_CICLO_CSMO</th>\n      <th>VALIDACION_CAMBIO_CICLO_FACTURACION</th>\n      <th>ACCION</th>\n      <th>NUEVA BD GC FACT1Ago</th>\n      <th>IMPACTO</th>\n    </tr>\n  </thead>\n  <tbody>\n    <tr>\n      <th>0</th>\n      <td>202308</td>\n      <td>1000125</td>\n      <td>10019652</td>\n      <td>10019652</td>\n      <td>1000125</td>\n      <td>CONEXIÓN</td>\n      <td>36465</td>\n      <td>SITUACION CORRECTA</td>\n      <td>MEDICIÓN CONVENCIONAL - ACTIVA/REACTIVA</td>\n      <td>SUBTERRANEA TRADICIONAL MT AT</td>\n      <td>...</td>\n      <td>NaN</td>\n      <td>NaN</td>\n      <td>3408</td>\n      <td>3408</td>\n      <td>6000</td>\n      <td>2907</td>\n      <td>PASAN A CICLO 6000</td>\n      <td>MANTIENEN</td>\n      <td>True</td>\n      <td>CICLO REG A 6MIL</td>\n    </tr>\n    <tr>\n      <th>1</th>\n      <td>202308</td>\n      <td>1000126</td>\n      <td>10019655</td>\n      <td>10019655</td>\n      <td>1000126</td>\n      <td>CONEXIÓN</td>\n      <td>36465</td>\n      <td>CON DEUDA</td>\n      <td>MEDICIÓN CONVENCIONAL - ACTIVA/REACTIVA</td>\n      <td>SUBTERRANEA TRADICIONAL MT AT</td>\n      <td>...</td>\n      <td>CARMEN ACOSTA</td>\n      <td>314 5974873</td>\n      <td>5000</td>\n      <td>5000</td>\n      <td>6000</td>\n      <td>3408</td>\n      <td>PASAN A CICLO 6000</td>\n      <td>MANTIENEN</td>\n      <td>True</td>\n      <td>5000 A 6000</td>\n    </tr>\n    <tr>\n      <th>2</th>\n      <td>202308</td>\n      <td>1000127</td>\n      <td>10019655</td>\n      <td>10019655</td>\n      <td>1000127</td>\n      <td>CONEXIÓN</td>\n      <td>36465</td>\n      <td>CON DEUDA</td>\n      <td>MEDICIÓN CONVENCIONAL - ACTIVA/REACTIVA</td>\n      <td>SUBTERRANEA TRADICIONAL MT AT</td>\n      <td>...</td>\n      <td>CARMEN ACOSTA</td>\n      <td>314 5974873</td>\n      <td>5000</td>\n      <td>5000</td>\n      <td>6000</td>\n      <td>3408</td>\n      <td>PASAN A CICLO 6000</td>\n      <td>MANTIENEN</td>\n      <td>True</td>\n      <td>5000 A 6000</td>\n    </tr>\n    <tr>\n      <th>3</th>\n      <td>202308</td>\n      <td>1000128</td>\n      <td>10019663</td>\n      <td>10019663</td>\n      <td>1000128</td>\n      <td>CONEXIÓN</td>\n      <td>36465</td>\n      <td>CON DEUDA</td>\n      <td>MEDICIÓN CONVENCIONAL - ACTIVA/REACTIVA</td>\n      <td>AEREA TRADICIONAL NORMAL</td>\n      <td>...</td>\n      <td>NaN</td>\n      <td>NaN</td>\n      <td>5000</td>\n      <td>5000</td>\n      <td>6000</td>\n      <td>3413</td>\n      <td>PASAN A CICLO 6000</td>\n      <td>MANTIENEN</td>\n      <td>True</td>\n      <td>5000 A 6000</td>\n    </tr>\n    <tr>\n      <th>4</th>\n      <td>202308</td>\n      <td>1000129</td>\n      <td>10019698</td>\n      <td>10019698</td>\n      <td>1000129</td>\n      <td>CONEXIÓN</td>\n      <td>36448</td>\n      <td>SITUACION CORRECTA</td>\n      <td>MEDICIÓN CONVENCIONAL - ACTIVA/REACTIVA</td>\n      <td>SUBTERRANEA TRADICIONAL MT AT</td>\n      <td>...</td>\n      <td>NaN</td>\n      <td>NaN</td>\n      <td>3410</td>\n      <td>3410</td>\n      <td>6000</td>\n      <td>3410</td>\n      <td>PASAN A CICLO 6000</td>\n      <td>MANTIENEN</td>\n      <td>True</td>\n      <td>CICLO REG A 6MIL</td>\n    </tr>\n    <tr>\n      <th>...</th>\n      <td>...</td>\n      <td>...</td>\n      <td>...</td>\n      <td>...</td>\n      <td>...</td>\n      <td>...</td>\n      <td>...</td>\n      <td>...</td>\n      <td>...</td>\n      <td>...</td>\n      <td>...</td>\n      <td>...</td>\n      <td>...</td>\n      <td>...</td>\n      <td>...</td>\n      <td>...</td>\n      <td>...</td>\n      <td>...</td>\n      <td>...</td>\n      <td>...</td>\n      <td>...</td>\n    </tr>\n    <tr>\n      <th>16274</th>\n      <td>202308</td>\n      <td>8087995</td>\n      <td>36533362</td>\n      <td>36533362</td>\n      <td>9096346</td>\n      <td>CONEXIÓN</td>\n      <td>45020</td>\n      <td>SITUACION CORRECTA</td>\n      <td>MEDICIÓN CONVENCIONAL - ACTIVA/REACTIVA</td>\n      <td>AEREA TRADICIONAL NORMAL</td>\n      <td>...</td>\n      <td>KAREN LICETH LOPEZ ARIZA</td>\n      <td>314 5811835</td>\n      <td>1108</td>\n      <td>1108</td>\n      <td>5000</td>\n      <td>1108</td>\n      <td>PASAN A CICLO 5000</td>\n      <td>INGRESAN</td>\n      <td>True</td>\n      <td>CICLO REG A 5MIL AGO</td>\n    </tr>\n    <tr>\n      <th>16275</th>\n      <td>202308</td>\n      <td>8088055</td>\n      <td>0</td>\n      <td>36620200</td>\n      <td>9096432</td>\n      <td>CONEXIÓN</td>\n      <td>45020</td>\n      <td>SITUACION CORRECTA</td>\n      <td>MEDICIÓN CONVENCIONAL - ACTIVA/REACTIVA</td>\n      <td>AEREA TRADICIONAL NORMAL</td>\n      <td>...</td>\n      <td>NaN</td>\n      <td>NaN</td>\n      <td>1212</td>\n      <td>1212</td>\n      <td>6000</td>\n      <td>1109</td>\n      <td>PASAN A CICLO 6000</td>\n      <td>INGRESAN</td>\n      <td>True</td>\n      <td>CICLO REG A 6MIL</td>\n    </tr>\n    <tr>\n      <th>16276</th>\n      <td>202308</td>\n      <td>8096768</td>\n      <td>36563363</td>\n      <td>36563363</td>\n      <td>9101975</td>\n      <td>ORDEN SUSPENSIÓN TOTAL</td>\n      <td>45042</td>\n      <td>MORA</td>\n      <td>MEDICIÓN CONVENCIONAL - ACTIVA/REACTIVA</td>\n      <td>AEREA TRADICIONAL NORMAL</td>\n      <td>...</td>\n      <td>INCLUIR</td>\n      <td>INCLUIR</td>\n      <td>1110</td>\n      <td>1110</td>\n      <td>5000</td>\n      <td>1110</td>\n      <td>PASAN A CICLO 5000</td>\n      <td>INGRESAN</td>\n      <td>True</td>\n      <td>CICLO REG A 5MIL AGO</td>\n    </tr>\n    <tr>\n      <th>16277</th>\n      <td>202308</td>\n      <td>8100479</td>\n      <td>36480919</td>\n      <td>36480919</td>\n      <td>9105487</td>\n      <td>CONEXIÓN</td>\n      <td>45057</td>\n      <td>MORA</td>\n      <td>MEDICIÓN CONVENCIONAL - ACTIVA/REACTIVA</td>\n      <td>AEREA TRADICIONAL MT AT</td>\n      <td>...</td>\n      <td>KARINA PALACIOS</td>\n      <td>304 5641047</td>\n      <td>1115</td>\n      <td>1115</td>\n      <td>6000</td>\n      <td>1108</td>\n      <td>PASAN A CICLO 6000</td>\n      <td>INGRESAN</td>\n      <td>True</td>\n      <td>CICLO REG A 6MIL</td>\n    </tr>\n    <tr>\n      <th>16278</th>\n      <td>202308</td>\n      <td>8100481</td>\n      <td>36480919</td>\n      <td>36480919</td>\n      <td>9105489</td>\n      <td>CONEXIÓN</td>\n      <td>45057</td>\n      <td>MORA</td>\n      <td>MEDICIÓN CONVENCIONAL - ACTIVA/REACTIVA</td>\n      <td>AEREA TRADICIONAL MT AT</td>\n      <td>...</td>\n      <td>KARINA PALACIOS</td>\n      <td>304 5641047</td>\n      <td>1115</td>\n      <td>1115</td>\n      <td>6000</td>\n      <td>1108</td>\n      <td>PASAN A CICLO 6000</td>\n      <td>INGRESAN</td>\n      <td>True</td>\n      <td>CICLO REG A 6MIL</td>\n    </tr>\n  </tbody>\n</table>\n<p>16279 rows × 205 columns</p>\n</div>"
     },
     "execution_count": 3,
     "metadata": {},
     "output_type": "execute_result"
    }
   ],
   "source": [
    "ruta = r'C:\\Users\\carlos.alvarado\\Downloads\\BD GC 26AGO23.xlsx'\n",
    "df_gc = pd.read_excel(ruta, sheet_name=\"BD GC 26AGO23\")\n",
    "df_gc"
   ],
   "metadata": {
    "collapsed": false,
    "ExecuteTime": {
     "end_time": "2023-08-28T22:13:46.729844600Z",
     "start_time": "2023-08-28T22:13:16.394063100Z"
    }
   },
   "id": "b16fee6ea74041f9"
  },
  {
   "cell_type": "code",
   "execution_count": 4,
   "outputs": [
    {
     "data": {
      "text/plain": "(16279, 205)"
     },
     "execution_count": 4,
     "metadata": {},
     "output_type": "execute_result"
    }
   ],
   "source": [
    "df_gc.shape"
   ],
   "metadata": {
    "collapsed": false,
    "ExecuteTime": {
     "end_time": "2023-08-28T22:13:46.740037400Z",
     "start_time": "2023-08-28T22:13:46.728847400Z"
    }
   },
   "id": "2f4263c8d5b8f8f"
  },
  {
   "cell_type": "code",
   "execution_count": 5,
   "outputs": [
    {
     "data": {
      "text/plain": "   PERIODO   CUENTA  SUSCRIBER_ID  Pagador CORRECTO (Suscriber ID)  PRODUCTO   \n0   202308  1000125      10019652                         10019652   1000125  \\\n1   202308  1000126      10019655                         10019655   1000126   \n2   202308  1000127      10019655                         10019655   1000127   \n3   202308  1000128      10019663                         10019663   1000128   \n4   202308  1000129      10019698                         10019698   1000129   \n\n  ESTADO_CONTRATO  F_ALTA   ESTADO_SUMINISTRO   \n0        CONEXIÓN   36465  SITUACION CORRECTA  \\\n1        CONEXIÓN   36465           CON DEUDA   \n2        CONEXIÓN   36465           CON DEUDA   \n3        CONEXIÓN   36465           CON DEUDA   \n4        CONEXIÓN   36448  SITUACION CORRECTA   \n\n                             TIPO_MEDICION                  TIPO_CONEXION   \n0  MEDICIÓN CONVENCIONAL - ACTIVA/REACTIVA  SUBTERRANEA TRADICIONAL MT AT  \\\n1  MEDICIÓN CONVENCIONAL - ACTIVA/REACTIVA  SUBTERRANEA TRADICIONAL MT AT   \n2  MEDICIÓN CONVENCIONAL - ACTIVA/REACTIVA  SUBTERRANEA TRADICIONAL MT AT   \n3  MEDICIÓN CONVENCIONAL - ACTIVA/REACTIVA       AEREA TRADICIONAL NORMAL   \n4  MEDICIÓN CONVENCIONAL - ACTIVA/REACTIVA  SUBTERRANEA TRADICIONAL MT AT   \n\n   ... NOMBRE_CONTACTO  TELF_CONTACTO  CICLO MARZO CICLO_JULIO.1   \n0  ...             NaN            NaN         3408          3408  \\\n1  ...   CARMEN ACOSTA    314 5974873         5000          5000   \n2  ...   CARMEN ACOSTA    314 5974873         5000          5000   \n3  ...             NaN            NaN         5000          5000   \n4  ...             NaN            NaN         3410          3410   \n\n  NUEVO_CICLO_FACT  NUEVO_CICLO_CSMO VALIDACION_CAMBIO_CICLO_FACTURACION   \n0             6000              2907                  PASAN A CICLO 6000  \\\n1             6000              3408                  PASAN A CICLO 6000   \n2             6000              3408                  PASAN A CICLO 6000   \n3             6000              3413                  PASAN A CICLO 6000   \n4             6000              3410                  PASAN A CICLO 6000   \n\n      ACCION  NUEVA BD GC FACT1Ago            IMPACTO  \n0  MANTIENEN                  True  CICLO REG A 6MIL   \n1  MANTIENEN                  True        5000 A 6000  \n2  MANTIENEN                  True        5000 A 6000  \n3  MANTIENEN                  True        5000 A 6000  \n4  MANTIENEN                  True  CICLO REG A 6MIL   \n\n[5 rows x 205 columns]",
      "text/html": "<div>\n<style scoped>\n    .dataframe tbody tr th:only-of-type {\n        vertical-align: middle;\n    }\n\n    .dataframe tbody tr th {\n        vertical-align: top;\n    }\n\n    .dataframe thead th {\n        text-align: right;\n    }\n</style>\n<table border=\"1\" class=\"dataframe\">\n  <thead>\n    <tr style=\"text-align: right;\">\n      <th></th>\n      <th>PERIODO</th>\n      <th>CUENTA</th>\n      <th>SUSCRIBER_ID</th>\n      <th>Pagador CORRECTO (Suscriber ID)</th>\n      <th>PRODUCTO</th>\n      <th>ESTADO_CONTRATO</th>\n      <th>F_ALTA</th>\n      <th>ESTADO_SUMINISTRO</th>\n      <th>TIPO_MEDICION</th>\n      <th>TIPO_CONEXION</th>\n      <th>...</th>\n      <th>NOMBRE_CONTACTO</th>\n      <th>TELF_CONTACTO</th>\n      <th>CICLO MARZO</th>\n      <th>CICLO_JULIO.1</th>\n      <th>NUEVO_CICLO_FACT</th>\n      <th>NUEVO_CICLO_CSMO</th>\n      <th>VALIDACION_CAMBIO_CICLO_FACTURACION</th>\n      <th>ACCION</th>\n      <th>NUEVA BD GC FACT1Ago</th>\n      <th>IMPACTO</th>\n    </tr>\n  </thead>\n  <tbody>\n    <tr>\n      <th>0</th>\n      <td>202308</td>\n      <td>1000125</td>\n      <td>10019652</td>\n      <td>10019652</td>\n      <td>1000125</td>\n      <td>CONEXIÓN</td>\n      <td>36465</td>\n      <td>SITUACION CORRECTA</td>\n      <td>MEDICIÓN CONVENCIONAL - ACTIVA/REACTIVA</td>\n      <td>SUBTERRANEA TRADICIONAL MT AT</td>\n      <td>...</td>\n      <td>NaN</td>\n      <td>NaN</td>\n      <td>3408</td>\n      <td>3408</td>\n      <td>6000</td>\n      <td>2907</td>\n      <td>PASAN A CICLO 6000</td>\n      <td>MANTIENEN</td>\n      <td>True</td>\n      <td>CICLO REG A 6MIL</td>\n    </tr>\n    <tr>\n      <th>1</th>\n      <td>202308</td>\n      <td>1000126</td>\n      <td>10019655</td>\n      <td>10019655</td>\n      <td>1000126</td>\n      <td>CONEXIÓN</td>\n      <td>36465</td>\n      <td>CON DEUDA</td>\n      <td>MEDICIÓN CONVENCIONAL - ACTIVA/REACTIVA</td>\n      <td>SUBTERRANEA TRADICIONAL MT AT</td>\n      <td>...</td>\n      <td>CARMEN ACOSTA</td>\n      <td>314 5974873</td>\n      <td>5000</td>\n      <td>5000</td>\n      <td>6000</td>\n      <td>3408</td>\n      <td>PASAN A CICLO 6000</td>\n      <td>MANTIENEN</td>\n      <td>True</td>\n      <td>5000 A 6000</td>\n    </tr>\n    <tr>\n      <th>2</th>\n      <td>202308</td>\n      <td>1000127</td>\n      <td>10019655</td>\n      <td>10019655</td>\n      <td>1000127</td>\n      <td>CONEXIÓN</td>\n      <td>36465</td>\n      <td>CON DEUDA</td>\n      <td>MEDICIÓN CONVENCIONAL - ACTIVA/REACTIVA</td>\n      <td>SUBTERRANEA TRADICIONAL MT AT</td>\n      <td>...</td>\n      <td>CARMEN ACOSTA</td>\n      <td>314 5974873</td>\n      <td>5000</td>\n      <td>5000</td>\n      <td>6000</td>\n      <td>3408</td>\n      <td>PASAN A CICLO 6000</td>\n      <td>MANTIENEN</td>\n      <td>True</td>\n      <td>5000 A 6000</td>\n    </tr>\n    <tr>\n      <th>3</th>\n      <td>202308</td>\n      <td>1000128</td>\n      <td>10019663</td>\n      <td>10019663</td>\n      <td>1000128</td>\n      <td>CONEXIÓN</td>\n      <td>36465</td>\n      <td>CON DEUDA</td>\n      <td>MEDICIÓN CONVENCIONAL - ACTIVA/REACTIVA</td>\n      <td>AEREA TRADICIONAL NORMAL</td>\n      <td>...</td>\n      <td>NaN</td>\n      <td>NaN</td>\n      <td>5000</td>\n      <td>5000</td>\n      <td>6000</td>\n      <td>3413</td>\n      <td>PASAN A CICLO 6000</td>\n      <td>MANTIENEN</td>\n      <td>True</td>\n      <td>5000 A 6000</td>\n    </tr>\n    <tr>\n      <th>4</th>\n      <td>202308</td>\n      <td>1000129</td>\n      <td>10019698</td>\n      <td>10019698</td>\n      <td>1000129</td>\n      <td>CONEXIÓN</td>\n      <td>36448</td>\n      <td>SITUACION CORRECTA</td>\n      <td>MEDICIÓN CONVENCIONAL - ACTIVA/REACTIVA</td>\n      <td>SUBTERRANEA TRADICIONAL MT AT</td>\n      <td>...</td>\n      <td>NaN</td>\n      <td>NaN</td>\n      <td>3410</td>\n      <td>3410</td>\n      <td>6000</td>\n      <td>3410</td>\n      <td>PASAN A CICLO 6000</td>\n      <td>MANTIENEN</td>\n      <td>True</td>\n      <td>CICLO REG A 6MIL</td>\n    </tr>\n  </tbody>\n</table>\n<p>5 rows × 205 columns</p>\n</div>"
     },
     "execution_count": 5,
     "metadata": {},
     "output_type": "execute_result"
    }
   ],
   "source": [
    "df_gc.head()"
   ],
   "metadata": {
    "collapsed": false,
    "ExecuteTime": {
     "end_time": "2023-08-28T22:13:46.756331600Z",
     "start_time": "2023-08-28T22:13:46.736047700Z"
    }
   },
   "id": "98a12610862dbdaf"
  },
  {
   "cell_type": "code",
   "execution_count": 6,
   "outputs": [
    {
     "name": "stdout",
     "output_type": "stream",
     "text": [
      "<class 'pandas.core.frame.DataFrame'>\n",
      "RangeIndex: 16279 entries, 0 to 16278\n",
      "Columns: 205 entries, PERIODO to IMPACTO\n",
      "dtypes: bool(11), float64(71), int64(51), object(72)\n",
      "memory usage: 24.3+ MB\n"
     ]
    }
   ],
   "source": [
    "df_gc.info()"
   ],
   "metadata": {
    "collapsed": false,
    "ExecuteTime": {
     "end_time": "2023-08-28T22:13:46.793323300Z",
     "start_time": "2023-08-28T22:13:46.752342800Z"
    }
   },
   "id": "2460953fe14c2f71"
  },
  {
   "cell_type": "code",
   "execution_count": 7,
   "outputs": [
    {
     "data": {
      "text/plain": "        PERIODO        CUENTA  SUSCRIBER_ID  Pagador CORRECTO (Suscriber ID)   \ncount   16279.0  1.627900e+04  1.627900e+04                     1.627900e+04  \\\nmean   202308.0  5.021002e+06  2.830330e+07                     2.837147e+07   \nstd         0.0  2.656815e+06  8.189257e+06                     8.094007e+06   \nmin    202308.0  1.000125e+06  0.000000e+00                     1.000002e+07   \n25%    202308.0  2.184678e+06  2.037281e+07                     2.037281e+07   \n50%    202308.0  6.505889e+06  3.405255e+07                     3.405255e+07   \n75%    202308.0  7.620937e+06  3.612191e+07                     3.612191e+07   \nmax    202308.0  8.100481e+06  3.686318e+07                     3.687597e+07   \n\n           PRODUCTO        F_ALTA        MEDIDO  ID_TRANSFORMADOR   \ncount  1.627900e+04  16279.000000  16279.000000      1.611600e+04  \\\nmean   4.356931e+06  38298.901100      0.989250      6.554316e+07   \nstd    2.629743e+06   4593.753655      0.103127      3.188345e+05   \nmin    1.016200e+04    367.000000      0.000000      6.500159e+07   \n25%    2.320898e+06  36465.000000      1.000000      6.520937e+07   \n50%    3.783493e+06  38939.000000      1.000000      6.572899e+07   \n75%    6.799051e+06  42027.000000      1.000000      6.576520e+07   \nmax    9.105489e+06  45078.000000      1.000000      6.590748e+07   \n\n       F_INSTALACION      COMUNICA  ...  VALOR_FACTURADO_GESTIONADO_TOTAL   \ncount   16104.000000  16279.000000  ...                      1.627900e+04  \\\nmean    42777.115437      0.031267  ...                      7.692468e+06   \nstd      2049.825500      0.174045  ...                      3.548389e+07   \nmin     29221.000000      0.000000  ...                     -2.123957e+08   \n25%     41598.000000      0.000000  ...                      3.956174e+05   \n50%     43271.000000      0.000000  ...                      1.978510e+06   \n75%     44457.000000      0.000000  ...                      5.787671e+06   \nmax     45138.000000      1.000000  ...                      1.697139e+09   \n\n       VALOR_FACTURADO_GESTIONADO_HEREDADA_SIN_IRR   \ncount                                 1.627900e+04  \\\nmean                                  3.788045e+06   \nstd                                   1.140987e+07   \nmin                                  -2.444582e+07   \n25%                                   0.000000e+00   \n50%                                   9.624954e+05   \n75%                                   3.854859e+06   \nmax                                   5.212497e+08   \n\n       VALOR_FACTURADO_GESTIONADO_PERIODO_SIN_IRR   \ncount                                1.627900e+04  \\\nmean                                 3.848507e+06   \nstd                                  3.407409e+07   \nmin                                 -2.123957e+08   \n25%                                 -1.150000e+00   \n50%                                  0.000000e+00   \n75%                                  3.010000e+00   \nmax                                  1.697139e+09   \n\n       VALOR_FACTURADO_GESTIONADO_RETENIDA_SIN_IRR   \ncount                                 1.627900e+04  \\\nmean                                  4.296223e+04   \nstd                                   1.373384e+06   \nmin                                   0.000000e+00   \n25%                                   0.000000e+00   \n50%                                   0.000000e+00   \n75%                                   0.000000e+00   \nmax                                   1.572103e+08   \n\n       VALOR_FACTURADO_GESTIONADO_DESPLAZADA_SIN_IRR   \ncount                                   1.627900e+04  \\\nmean                                    3.763670e+06   \nstd                                     1.081000e+07   \nmin                                    -3.703537e+07   \n25%                                     0.000000e+00   \n50%                                     9.769293e+05   \n75%                                     3.785913e+06   \nmax                                     4.214826e+08   \n\n       VALOR_FACTURADO_GESTIONADO_SIN_IRR  FACTOR MULTIPLICADOR   \ncount                        1.627900e+04          16104.000000  \\\nmean                         7.679514e+06          10242.625570   \nstd                          3.548319e+07         100088.965049   \nmin                         -2.123957e+08              0.000000   \n25%                          3.924105e+05              1.000000   \n50%                          1.974430e+06              1.000000   \n75%                          5.761169e+06             80.000000   \nmax                          1.697139e+09        1000000.000000   \n\n       PROMEDIO CONSUMO  PAGADOR_CORRECTO  CICLO_JULIO.1  \ncount      1.492300e+04      1.112300e+04   16279.000000  \nmean       3.735791e+03      2.785530e+07    4674.115056  \nstd        2.777718e+05      8.137582e+06     843.951246  \nmin       -3.334531e+07      1.000002e+07    1101.000000  \n25%        6.511000e+02      2.037289e+07    5000.000000  \n50%        2.208000e+03      2.567508e+07    5000.000000  \n75%        5.438310e+03      3.606984e+07    5000.000000  \nmax        6.004104e+06      2.567501e+08    5000.000000  \n\n[8 rows x 122 columns]",
      "text/html": "<div>\n<style scoped>\n    .dataframe tbody tr th:only-of-type {\n        vertical-align: middle;\n    }\n\n    .dataframe tbody tr th {\n        vertical-align: top;\n    }\n\n    .dataframe thead th {\n        text-align: right;\n    }\n</style>\n<table border=\"1\" class=\"dataframe\">\n  <thead>\n    <tr style=\"text-align: right;\">\n      <th></th>\n      <th>PERIODO</th>\n      <th>CUENTA</th>\n      <th>SUSCRIBER_ID</th>\n      <th>Pagador CORRECTO (Suscriber ID)</th>\n      <th>PRODUCTO</th>\n      <th>F_ALTA</th>\n      <th>MEDIDO</th>\n      <th>ID_TRANSFORMADOR</th>\n      <th>F_INSTALACION</th>\n      <th>COMUNICA</th>\n      <th>...</th>\n      <th>VALOR_FACTURADO_GESTIONADO_TOTAL</th>\n      <th>VALOR_FACTURADO_GESTIONADO_HEREDADA_SIN_IRR</th>\n      <th>VALOR_FACTURADO_GESTIONADO_PERIODO_SIN_IRR</th>\n      <th>VALOR_FACTURADO_GESTIONADO_RETENIDA_SIN_IRR</th>\n      <th>VALOR_FACTURADO_GESTIONADO_DESPLAZADA_SIN_IRR</th>\n      <th>VALOR_FACTURADO_GESTIONADO_SIN_IRR</th>\n      <th>FACTOR MULTIPLICADOR</th>\n      <th>PROMEDIO CONSUMO</th>\n      <th>PAGADOR_CORRECTO</th>\n      <th>CICLO_JULIO.1</th>\n    </tr>\n  </thead>\n  <tbody>\n    <tr>\n      <th>count</th>\n      <td>16279.0</td>\n      <td>1.627900e+04</td>\n      <td>1.627900e+04</td>\n      <td>1.627900e+04</td>\n      <td>1.627900e+04</td>\n      <td>16279.000000</td>\n      <td>16279.000000</td>\n      <td>1.611600e+04</td>\n      <td>16104.000000</td>\n      <td>16279.000000</td>\n      <td>...</td>\n      <td>1.627900e+04</td>\n      <td>1.627900e+04</td>\n      <td>1.627900e+04</td>\n      <td>1.627900e+04</td>\n      <td>1.627900e+04</td>\n      <td>1.627900e+04</td>\n      <td>16104.000000</td>\n      <td>1.492300e+04</td>\n      <td>1.112300e+04</td>\n      <td>16279.000000</td>\n    </tr>\n    <tr>\n      <th>mean</th>\n      <td>202308.0</td>\n      <td>5.021002e+06</td>\n      <td>2.830330e+07</td>\n      <td>2.837147e+07</td>\n      <td>4.356931e+06</td>\n      <td>38298.901100</td>\n      <td>0.989250</td>\n      <td>6.554316e+07</td>\n      <td>42777.115437</td>\n      <td>0.031267</td>\n      <td>...</td>\n      <td>7.692468e+06</td>\n      <td>3.788045e+06</td>\n      <td>3.848507e+06</td>\n      <td>4.296223e+04</td>\n      <td>3.763670e+06</td>\n      <td>7.679514e+06</td>\n      <td>10242.625570</td>\n      <td>3.735791e+03</td>\n      <td>2.785530e+07</td>\n      <td>4674.115056</td>\n    </tr>\n    <tr>\n      <th>std</th>\n      <td>0.0</td>\n      <td>2.656815e+06</td>\n      <td>8.189257e+06</td>\n      <td>8.094007e+06</td>\n      <td>2.629743e+06</td>\n      <td>4593.753655</td>\n      <td>0.103127</td>\n      <td>3.188345e+05</td>\n      <td>2049.825500</td>\n      <td>0.174045</td>\n      <td>...</td>\n      <td>3.548389e+07</td>\n      <td>1.140987e+07</td>\n      <td>3.407409e+07</td>\n      <td>1.373384e+06</td>\n      <td>1.081000e+07</td>\n      <td>3.548319e+07</td>\n      <td>100088.965049</td>\n      <td>2.777718e+05</td>\n      <td>8.137582e+06</td>\n      <td>843.951246</td>\n    </tr>\n    <tr>\n      <th>min</th>\n      <td>202308.0</td>\n      <td>1.000125e+06</td>\n      <td>0.000000e+00</td>\n      <td>1.000002e+07</td>\n      <td>1.016200e+04</td>\n      <td>367.000000</td>\n      <td>0.000000</td>\n      <td>6.500159e+07</td>\n      <td>29221.000000</td>\n      <td>0.000000</td>\n      <td>...</td>\n      <td>-2.123957e+08</td>\n      <td>-2.444582e+07</td>\n      <td>-2.123957e+08</td>\n      <td>0.000000e+00</td>\n      <td>-3.703537e+07</td>\n      <td>-2.123957e+08</td>\n      <td>0.000000</td>\n      <td>-3.334531e+07</td>\n      <td>1.000002e+07</td>\n      <td>1101.000000</td>\n    </tr>\n    <tr>\n      <th>25%</th>\n      <td>202308.0</td>\n      <td>2.184678e+06</td>\n      <td>2.037281e+07</td>\n      <td>2.037281e+07</td>\n      <td>2.320898e+06</td>\n      <td>36465.000000</td>\n      <td>1.000000</td>\n      <td>6.520937e+07</td>\n      <td>41598.000000</td>\n      <td>0.000000</td>\n      <td>...</td>\n      <td>3.956174e+05</td>\n      <td>0.000000e+00</td>\n      <td>-1.150000e+00</td>\n      <td>0.000000e+00</td>\n      <td>0.000000e+00</td>\n      <td>3.924105e+05</td>\n      <td>1.000000</td>\n      <td>6.511000e+02</td>\n      <td>2.037289e+07</td>\n      <td>5000.000000</td>\n    </tr>\n    <tr>\n      <th>50%</th>\n      <td>202308.0</td>\n      <td>6.505889e+06</td>\n      <td>3.405255e+07</td>\n      <td>3.405255e+07</td>\n      <td>3.783493e+06</td>\n      <td>38939.000000</td>\n      <td>1.000000</td>\n      <td>6.572899e+07</td>\n      <td>43271.000000</td>\n      <td>0.000000</td>\n      <td>...</td>\n      <td>1.978510e+06</td>\n      <td>9.624954e+05</td>\n      <td>0.000000e+00</td>\n      <td>0.000000e+00</td>\n      <td>9.769293e+05</td>\n      <td>1.974430e+06</td>\n      <td>1.000000</td>\n      <td>2.208000e+03</td>\n      <td>2.567508e+07</td>\n      <td>5000.000000</td>\n    </tr>\n    <tr>\n      <th>75%</th>\n      <td>202308.0</td>\n      <td>7.620937e+06</td>\n      <td>3.612191e+07</td>\n      <td>3.612191e+07</td>\n      <td>6.799051e+06</td>\n      <td>42027.000000</td>\n      <td>1.000000</td>\n      <td>6.576520e+07</td>\n      <td>44457.000000</td>\n      <td>0.000000</td>\n      <td>...</td>\n      <td>5.787671e+06</td>\n      <td>3.854859e+06</td>\n      <td>3.010000e+00</td>\n      <td>0.000000e+00</td>\n      <td>3.785913e+06</td>\n      <td>5.761169e+06</td>\n      <td>80.000000</td>\n      <td>5.438310e+03</td>\n      <td>3.606984e+07</td>\n      <td>5000.000000</td>\n    </tr>\n    <tr>\n      <th>max</th>\n      <td>202308.0</td>\n      <td>8.100481e+06</td>\n      <td>3.686318e+07</td>\n      <td>3.687597e+07</td>\n      <td>9.105489e+06</td>\n      <td>45078.000000</td>\n      <td>1.000000</td>\n      <td>6.590748e+07</td>\n      <td>45138.000000</td>\n      <td>1.000000</td>\n      <td>...</td>\n      <td>1.697139e+09</td>\n      <td>5.212497e+08</td>\n      <td>1.697139e+09</td>\n      <td>1.572103e+08</td>\n      <td>4.214826e+08</td>\n      <td>1.697139e+09</td>\n      <td>1000000.000000</td>\n      <td>6.004104e+06</td>\n      <td>2.567501e+08</td>\n      <td>5000.000000</td>\n    </tr>\n  </tbody>\n</table>\n<p>8 rows × 122 columns</p>\n</div>"
     },
     "execution_count": 7,
     "metadata": {},
     "output_type": "execute_result"
    }
   ],
   "source": [
    "df_gc.describe()"
   ],
   "metadata": {
    "collapsed": false,
    "ExecuteTime": {
     "end_time": "2023-08-28T22:13:47.064364700Z",
     "start_time": "2023-08-28T22:13:46.765370500Z"
    }
   },
   "id": "9230fbdaa35a3320"
  },
  {
   "cell_type": "code",
   "execution_count": 8,
   "outputs": [],
   "source": [
    "f_referencia = pd.to_datetime('01/01/2023')\n",
    "\n",
    "df_gc['F_ALTA_V1'] = f_referencia + pd.to_timedelta(df_gc['F_ALTA'])"
   ],
   "metadata": {
    "collapsed": false,
    "ExecuteTime": {
     "end_time": "2023-08-28T22:13:47.072648200Z",
     "start_time": "2023-08-28T22:13:47.057064600Z"
    }
   },
   "id": "60d9dfc43a002f1c"
  },
  {
   "cell_type": "code",
   "execution_count": 8,
   "outputs": [],
   "source": [],
   "metadata": {
    "collapsed": false,
    "ExecuteTime": {
     "end_time": "2023-08-28T22:13:47.072648200Z",
     "start_time": "2023-08-28T22:13:47.066359900Z"
    }
   },
   "id": "7a9e506248fbebe2"
  }
 ],
 "metadata": {
  "kernelspec": {
   "display_name": "Python 3",
   "language": "python",
   "name": "python3"
  },
  "language_info": {
   "codemirror_mode": {
    "name": "ipython",
    "version": 2
   },
   "file_extension": ".py",
   "mimetype": "text/x-python",
   "name": "python",
   "nbconvert_exporter": "python",
   "pygments_lexer": "ipython2",
   "version": "2.7.6"
  }
 },
 "nbformat": 4,
 "nbformat_minor": 5
}
